{
 "cells": [
  {
   "cell_type": "code",
   "execution_count": 36,
   "metadata": {},
   "outputs": [],
   "source": [
    "import torch\n",
    "import torch.nn as nn\n",
    "import time\n",
    "from tqdm import tqdm\n",
    "from torchvision.transforms.functional import to_pil_image, to_tensor"
   ]
  },
  {
   "cell_type": "markdown",
   "metadata": {},
   "source": [
    "# transforms 图像->tensor\n",
    "\n"
   ]
  },
  {
   "cell_type": "code",
   "execution_count": 37,
   "metadata": {},
   "outputs": [],
   "source": [
    "from torchvision import transforms\n",
    "# 128 x 3 x 64 x 64\n",
    "size = 64\n",
    "\n",
    "transform_image = transforms.Compose([\n",
    "                                      transforms.RandomCrop(size),  # PIL Image\n",
    "                                      transforms.ToTensor()  # Tensor\n",
    "])\n",
    "\n",
    "transform_test = transforms.Compose([\n",
    "                                      transforms.ToTensor()  # Tensor\n",
    "])"
   ]
  },
  {
   "cell_type": "markdown",
   "metadata": {},
   "source": [
    "# prepare Dataset  \n",
    "ImageFolder"
   ]
  },
  {
   "cell_type": "code",
   "execution_count": 38,
   "metadata": {},
   "outputs": [],
   "source": [
    "from torch.utils.data import Dataset, DataLoader\n",
    "import os\n",
    "from PIL import Image\n",
    "\n",
    "class ImageFolder(Dataset):\n",
    "    def __init__(self, path):\n",
    "        super(ImageFolder, self).__init__()\n",
    "        self.path = os.path.abspath(path)\n",
    "        self.image_list = os.listdir(self.path)  # List\n",
    "\n",
    "    def __getitem__(self, item):\n",
    "        image_path = self.image_list[item]\n",
    "        image_path = os.path.join(self.path, image_path)\n",
    "        image_pil = Image.open(image_path)\n",
    "        return transform_image(image_pil) #返回的是剪切处理过的tensor torch.Size([3, 64, 64])\n",
    "\n",
    "    def __len__(self):\n",
    "        return len(self.image_list)\n"
   ]
  },
  {
   "cell_type": "code",
   "execution_count": 39,
   "metadata": {},
   "outputs": [],
   "source": [
    "dataset = ImageFolder('./General-100')\n",
    "loader = DataLoader(dataset, batch_size=20, shuffle=True, num_workers=0 )"
   ]
  },
  {
   "cell_type": "markdown",
   "metadata": {},
   "source": [
    "# 加一个高斯噪声\n",
    "std_gaus 标准差  \n",
    "clamp 防止溢出 0-1"
   ]
  },
  {
   "cell_type": "code",
   "execution_count": 40,
   "metadata": {},
   "outputs": [],
   "source": [
    "def add_noise(img_tensor, std_gaus):\n",
    "    noise = torch.randn(img_tensor.shape).type_as(img_tensor) * std_gaus\n",
    "    noised_img = img_tensor + noise\n",
    "    return torch.clamp(noised_img, min=0., max=1.)"
   ]
  },
  {
   "cell_type": "markdown",
   "metadata": {},
   "source": [
    "# CNNDenoiser"
   ]
  },
  {
   "cell_type": "code",
   "execution_count": 41,
   "metadata": {},
   "outputs": [],
   "source": [
    "class CNNDenoiser(nn.Module):\n",
    "    def __init__(self, num_channel=3, num_f=64):\n",
    "        super(CNNDenoiser, self).__init__()\n",
    "        # 20 x 3 x 64 x 64\n",
    "        self.conv1 = nn.Conv2d(num_channel, num_f, 5, padding=2)\n",
    "        # 20 x 64 x 64 x 64\n",
    "        self.conv2 = nn.Conv2d(num_f, num_f, 3, padding=1)\n",
    "        # 20 x 64 x 64 x 64\n",
    "        self.conv3 = nn.Conv2d(num_f, num_f, 3, padding=1)\n",
    "        # 20 x 64 x 64 x 64\n",
    "        self.conv4 = nn.Conv2d(num_f, num_f, 3, padding=1)\n",
    "        # 20 x 64 x 64 x 64\n",
    "        self.conv5 = nn.Conv2d(num_f, num_channel, 5, padding=2)\n",
    "        # 20 x 3 x 64 x 64\n",
    "\n",
    "    def forward(self, x):\n",
    "        x = nn.functional.relu(self.conv1(x))\n",
    "        x = nn.functional.relu(self.conv2(x))\n",
    "        x = nn.functional.relu(self.conv3(x))\n",
    "        x = nn.functional.relu(self.conv4(x))\n",
    "        x = nn.functional.relu(self.conv5(x))\n",
    "        return x\n"
   ]
  },
  {
   "cell_type": "markdown",
   "metadata": {},
   "source": [
    "# 训练\n"
   ]
  },
  {
   "cell_type": "code",
   "execution_count": 42,
   "metadata": {},
   "outputs": [],
   "source": [
    "num_epoches = 200\n",
    "loss_func = nn.MSELoss()\n",
    "model = CNNDenoiser() # Multiple Layer Perception\n",
    "training_loader = loader\n",
    "\n",
    "optimizer = torch.optim.Adam(model.parameters(), 0.001)\n",
    "\n",
    "test_image = transform_test(Image.open('./General-100/im_16.bmp'))\n",
    "transforms.functional.to_pil_image(test_image).save(f'./CONTENT/GT.png')  # Ground Truth\n",
    "test_image_noised = add_noise(test_image, 0.1)\n",
    "transforms.functional.to_pil_image(test_image_noised).save(f'./CONTENT/input.png')"
   ]
  },
  {
   "cell_type": "code",
   "execution_count": 43,
   "metadata": {},
   "outputs": [
    {
     "name": "stdout",
     "output_type": "stream",
     "text": [
      "1 epoch. Training Avg Loss 0.1967, time 1.28 s\n",
      "2 epoch. Training Avg Loss 0.0572, time 0.80 s\n",
      "3 epoch. Training Avg Loss 0.0415, time 0.80 s\n",
      "4 epoch. Training Avg Loss 0.0356, time 0.78 s\n",
      "5 epoch. Training Avg Loss 0.0298, time 0.79 s\n",
      "6 epoch. Training Avg Loss 0.0279, time 0.78 s\n",
      "7 epoch. Training Avg Loss 0.0229, time 0.90 s\n",
      "8 epoch. Training Avg Loss 0.0217, time 0.96 s\n",
      "9 epoch. Training Avg Loss 0.0205, time 0.78 s\n",
      "10 epoch. Training Avg Loss 0.0186, time 0.76 s\n",
      "11 epoch. Training Avg Loss 0.0141, time 0.79 s\n",
      "12 epoch. Training Avg Loss 0.0123, time 0.78 s\n",
      "13 epoch. Training Avg Loss 0.0108, time 0.83 s\n",
      "14 epoch. Training Avg Loss 0.0104, time 0.78 s\n",
      "15 epoch. Training Avg Loss 0.0087, time 0.78 s\n",
      "16 epoch. Training Avg Loss 0.0082, time 0.77 s\n",
      "17 epoch. Training Avg Loss 0.0076, time 0.80 s\n",
      "18 epoch. Training Avg Loss 0.0062, time 0.78 s\n",
      "19 epoch. Training Avg Loss 0.0053, time 0.79 s\n",
      "20 epoch. Training Avg Loss 0.0046, time 0.78 s\n",
      "21 epoch. Training Avg Loss 0.0044, time 0.79 s\n",
      "22 epoch. Training Avg Loss 0.0036, time 0.79 s\n",
      "23 epoch. Training Avg Loss 0.0033, time 0.77 s\n",
      "24 epoch. Training Avg Loss 0.0032, time 0.78 s\n",
      "25 epoch. Training Avg Loss 0.0032, time 0.78 s\n",
      "26 epoch. Training Avg Loss 0.0028, time 0.79 s\n",
      "27 epoch. Training Avg Loss 0.0029, time 0.80 s\n",
      "28 epoch. Training Avg Loss 0.0029, time 0.82 s\n",
      "29 epoch. Training Avg Loss 0.0027, time 0.95 s\n",
      "30 epoch. Training Avg Loss 0.0024, time 1.24 s\n",
      "31 epoch. Training Avg Loss 0.0023, time 1.02 s\n",
      "32 epoch. Training Avg Loss 0.0024, time 1.15 s\n",
      "33 epoch. Training Avg Loss 0.0024, time 1.14 s\n",
      "34 epoch. Training Avg Loss 0.0023, time 1.02 s\n",
      "35 epoch. Training Avg Loss 0.0023, time 1.00 s\n",
      "36 epoch. Training Avg Loss 0.0023, time 0.90 s\n",
      "37 epoch. Training Avg Loss 0.0021, time 0.94 s\n",
      "38 epoch. Training Avg Loss 0.0023, time 0.81 s\n",
      "39 epoch. Training Avg Loss 0.0023, time 0.95 s\n",
      "40 epoch. Training Avg Loss 0.0021, time 0.88 s\n",
      "41 epoch. Training Avg Loss 0.0018, time 1.05 s\n",
      "42 epoch. Training Avg Loss 0.0020, time 0.84 s\n",
      "43 epoch. Training Avg Loss 0.0020, time 0.84 s\n",
      "44 epoch. Training Avg Loss 0.0021, time 0.85 s\n",
      "45 epoch. Training Avg Loss 0.0020, time 0.91 s\n",
      "46 epoch. Training Avg Loss 0.0019, time 0.85 s\n",
      "47 epoch. Training Avg Loss 0.0020, time 1.03 s\n",
      "48 epoch. Training Avg Loss 0.0021, time 0.87 s\n",
      "49 epoch. Training Avg Loss 0.0017, time 0.96 s\n",
      "50 epoch. Training Avg Loss 0.0018, time 0.98 s\n",
      "51 epoch. Training Avg Loss 0.0018, time 0.87 s\n",
      "52 epoch. Training Avg Loss 0.0018, time 0.98 s\n",
      "53 epoch. Training Avg Loss 0.0021, time 0.87 s\n",
      "54 epoch. Training Avg Loss 0.0019, time 0.93 s\n",
      "55 epoch. Training Avg Loss 0.0018, time 1.12 s\n",
      "56 epoch. Training Avg Loss 0.0020, time 0.90 s\n",
      "57 epoch. Training Avg Loss 0.0023, time 1.00 s\n",
      "58 epoch. Training Avg Loss 0.0022, time 0.88 s\n",
      "59 epoch. Training Avg Loss 0.0021, time 1.03 s\n",
      "60 epoch. Training Avg Loss 0.0023, time 0.91 s\n",
      "61 epoch. Training Avg Loss 0.0022, time 1.03 s\n",
      "62 epoch. Training Avg Loss 0.0018, time 0.91 s\n",
      "63 epoch. Training Avg Loss 0.0018, time 0.89 s\n",
      "64 epoch. Training Avg Loss 0.0018, time 0.80 s\n",
      "65 epoch. Training Avg Loss 0.0020, time 0.81 s\n",
      "66 epoch. Training Avg Loss 0.0021, time 0.81 s\n",
      "67 epoch. Training Avg Loss 0.0021, time 1.05 s\n",
      "68 epoch. Training Avg Loss 0.0017, time 1.01 s\n",
      "69 epoch. Training Avg Loss 0.0019, time 0.88 s\n",
      "70 epoch. Training Avg Loss 0.0020, time 0.84 s\n",
      "71 epoch. Training Avg Loss 0.0021, time 0.82 s\n",
      "72 epoch. Training Avg Loss 0.0019, time 0.89 s\n",
      "73 epoch. Training Avg Loss 0.0018, time 0.86 s\n",
      "74 epoch. Training Avg Loss 0.0016, time 0.84 s\n",
      "75 epoch. Training Avg Loss 0.0018, time 0.84 s\n",
      "76 epoch. Training Avg Loss 0.0019, time 0.85 s\n",
      "77 epoch. Training Avg Loss 0.0020, time 0.84 s\n",
      "78 epoch. Training Avg Loss 0.0018, time 0.81 s\n",
      "79 epoch. Training Avg Loss 0.0016, time 0.85 s\n",
      "80 epoch. Training Avg Loss 0.0016, time 1.20 s\n",
      "81 epoch. Training Avg Loss 0.0015, time 1.13 s\n",
      "82 epoch. Training Avg Loss 0.0016, time 0.98 s\n",
      "83 epoch. Training Avg Loss 0.0017, time 0.87 s\n",
      "84 epoch. Training Avg Loss 0.0016, time 0.85 s\n",
      "85 epoch. Training Avg Loss 0.0015, time 0.83 s\n",
      "86 epoch. Training Avg Loss 0.0014, time 1.16 s\n",
      "87 epoch. Training Avg Loss 0.0016, time 1.60 s\n",
      "88 epoch. Training Avg Loss 0.0017, time 1.21 s\n",
      "89 epoch. Training Avg Loss 0.0016, time 1.20 s\n",
      "90 epoch. Training Avg Loss 0.0015, time 1.22 s\n",
      "91 epoch. Training Avg Loss 0.0015, time 1.05 s\n",
      "92 epoch. Training Avg Loss 0.0016, time 1.33 s\n",
      "93 epoch. Training Avg Loss 0.0016, time 1.55 s\n",
      "94 epoch. Training Avg Loss 0.0017, time 1.11 s\n",
      "95 epoch. Training Avg Loss 0.0016, time 1.16 s\n",
      "96 epoch. Training Avg Loss 0.0016, time 1.09 s\n",
      "97 epoch. Training Avg Loss 0.0014, time 1.31 s\n",
      "98 epoch. Training Avg Loss 0.0016, time 1.76 s\n",
      "99 epoch. Training Avg Loss 0.0016, time 1.12 s\n",
      "100 epoch. Training Avg Loss 0.0018, time 1.07 s\n",
      "101 epoch. Training Avg Loss 0.0015, time 1.20 s\n",
      "102 epoch. Training Avg Loss 0.0014, time 1.07 s\n",
      "103 epoch. Training Avg Loss 0.0014, time 1.03 s\n",
      "104 epoch. Training Avg Loss 0.0013, time 1.08 s\n",
      "105 epoch. Training Avg Loss 0.0014, time 1.25 s\n",
      "106 epoch. Training Avg Loss 0.0015, time 1.13 s\n",
      "107 epoch. Training Avg Loss 0.0015, time 1.22 s\n",
      "108 epoch. Training Avg Loss 0.0016, time 1.08 s\n",
      "109 epoch. Training Avg Loss 0.0015, time 1.06 s\n",
      "110 epoch. Training Avg Loss 0.0014, time 1.24 s\n",
      "111 epoch. Training Avg Loss 0.0013, time 1.15 s\n",
      "112 epoch. Training Avg Loss 0.0013, time 1.03 s\n",
      "113 epoch. Training Avg Loss 0.0013, time 1.00 s\n",
      "114 epoch. Training Avg Loss 0.0014, time 1.02 s\n",
      "115 epoch. Training Avg Loss 0.0014, time 1.05 s\n",
      "116 epoch. Training Avg Loss 0.0019, time 1.08 s\n",
      "117 epoch. Training Avg Loss 0.0029, time 1.22 s\n",
      "118 epoch. Training Avg Loss 0.0028, time 1.26 s\n",
      "119 epoch. Training Avg Loss 0.0036, time 1.11 s\n",
      "120 epoch. Training Avg Loss 0.0030, time 1.15 s\n",
      "121 epoch. Training Avg Loss 0.0026, time 1.11 s\n",
      "122 epoch. Training Avg Loss 0.0021, time 1.14 s\n",
      "123 epoch. Training Avg Loss 0.0022, time 1.07 s\n",
      "124 epoch. Training Avg Loss 0.0022, time 1.17 s\n",
      "125 epoch. Training Avg Loss 0.0020, time 1.15 s\n",
      "126 epoch. Training Avg Loss 0.0017, time 1.25 s\n",
      "127 epoch. Training Avg Loss 0.0014, time 1.30 s\n",
      "128 epoch. Training Avg Loss 0.0015, time 1.16 s\n",
      "129 epoch. Training Avg Loss 0.0013, time 1.06 s\n",
      "130 epoch. Training Avg Loss 0.0014, time 1.22 s\n",
      "131 epoch. Training Avg Loss 0.0014, time 1.13 s\n",
      "132 epoch. Training Avg Loss 0.0014, time 1.19 s\n",
      "133 epoch. Training Avg Loss 0.0016, time 1.08 s\n",
      "134 epoch. Training Avg Loss 0.0015, time 1.37 s\n",
      "135 epoch. Training Avg Loss 0.0014, time 1.20 s\n",
      "136 epoch. Training Avg Loss 0.0015, time 1.14 s\n",
      "137 epoch. Training Avg Loss 0.0014, time 1.03 s\n",
      "138 epoch. Training Avg Loss 0.0014, time 1.34 s\n",
      "139 epoch. Training Avg Loss 0.0015, time 1.35 s\n",
      "140 epoch. Training Avg Loss 0.0015, time 1.09 s\n",
      "141 epoch. Training Avg Loss 0.0014, time 1.04 s\n",
      "142 epoch. Training Avg Loss 0.0014, time 0.97 s\n",
      "143 epoch. Training Avg Loss 0.0014, time 0.97 s\n",
      "144 epoch. Training Avg Loss 0.0013, time 1.01 s\n",
      "145 epoch. Training Avg Loss 0.0014, time 0.95 s\n",
      "146 epoch. Training Avg Loss 0.0014, time 1.05 s\n",
      "147 epoch. Training Avg Loss 0.0014, time 1.07 s\n",
      "148 epoch. Training Avg Loss 0.0014, time 1.03 s\n",
      "149 epoch. Training Avg Loss 0.0013, time 1.07 s\n",
      "150 epoch. Training Avg Loss 0.0013, time 1.07 s\n",
      "151 epoch. Training Avg Loss 0.0012, time 1.10 s\n",
      "152 epoch. Training Avg Loss 0.0013, time 1.04 s\n",
      "153 epoch. Training Avg Loss 0.0013, time 1.14 s\n",
      "154 epoch. Training Avg Loss 0.0013, time 1.25 s\n",
      "155 epoch. Training Avg Loss 0.0013, time 1.05 s\n",
      "156 epoch. Training Avg Loss 0.0013, time 0.99 s\n",
      "157 epoch. Training Avg Loss 0.0013, time 1.12 s\n",
      "158 epoch. Training Avg Loss 0.0013, time 1.07 s\n",
      "159 epoch. Training Avg Loss 0.0013, time 1.11 s\n",
      "160 epoch. Training Avg Loss 0.0013, time 1.01 s\n",
      "161 epoch. Training Avg Loss 0.0012, time 1.16 s\n",
      "162 epoch. Training Avg Loss 0.0012, time 1.13 s\n",
      "163 epoch. Training Avg Loss 0.0014, time 1.08 s\n",
      "164 epoch. Training Avg Loss 0.0013, time 1.15 s\n",
      "165 epoch. Training Avg Loss 0.0013, time 1.10 s\n",
      "166 epoch. Training Avg Loss 0.0014, time 1.14 s\n",
      "167 epoch. Training Avg Loss 0.0013, time 1.24 s\n",
      "168 epoch. Training Avg Loss 0.0013, time 1.27 s\n",
      "169 epoch. Training Avg Loss 0.0013, time 1.09 s\n",
      "170 epoch. Training Avg Loss 0.0013, time 1.12 s\n",
      "171 epoch. Training Avg Loss 0.0015, time 1.24 s\n",
      "172 epoch. Training Avg Loss 0.0014, time 1.02 s\n",
      "173 epoch. Training Avg Loss 0.0014, time 0.92 s\n",
      "174 epoch. Training Avg Loss 0.0013, time 1.00 s\n",
      "175 epoch. Training Avg Loss 0.0019, time 1.22 s\n",
      "176 epoch. Training Avg Loss 0.0021, time 1.10 s\n",
      "177 epoch. Training Avg Loss 0.0017, time 1.03 s\n",
      "178 epoch. Training Avg Loss 0.0016, time 1.05 s\n",
      "179 epoch. Training Avg Loss 0.0016, time 1.09 s\n",
      "180 epoch. Training Avg Loss 0.0014, time 1.25 s\n",
      "181 epoch. Training Avg Loss 0.0014, time 1.03 s\n",
      "182 epoch. Training Avg Loss 0.0013, time 1.13 s\n",
      "183 epoch. Training Avg Loss 0.0013, time 1.27 s\n",
      "184 epoch. Training Avg Loss 0.0012, time 1.66 s\n",
      "185 epoch. Training Avg Loss 0.0013, time 1.12 s\n",
      "186 epoch. Training Avg Loss 0.0012, time 1.06 s\n",
      "187 epoch. Training Avg Loss 0.0012, time 0.98 s\n",
      "188 epoch. Training Avg Loss 0.0013, time 0.85 s\n",
      "189 epoch. Training Avg Loss 0.0012, time 0.86 s\n",
      "190 epoch. Training Avg Loss 0.0012, time 0.92 s\n",
      "191 epoch. Training Avg Loss 0.0012, time 0.85 s\n",
      "192 epoch. Training Avg Loss 0.0011, time 0.89 s\n",
      "193 epoch. Training Avg Loss 0.0013, time 0.90 s\n",
      "194 epoch. Training Avg Loss 0.0012, time 0.87 s\n",
      "195 epoch. Training Avg Loss 0.0013, time 0.92 s\n",
      "196 epoch. Training Avg Loss 0.0013, time 0.84 s\n",
      "197 epoch. Training Avg Loss 0.0013, time 0.81 s\n",
      "198 epoch. Training Avg Loss 0.0013, time 0.83 s\n",
      "199 epoch. Training Avg Loss 0.0015, time 0.84 s\n",
      "200 epoch. Training Avg Loss 0.0012, time 0.85 s\n"
     ]
    }
   ],
   "source": [
    "#放在显卡上\n",
    "model.cuda()\n",
    "test_image_noised = test_image_noised.cuda()\n",
    "loss_func.cuda()\n",
    "\n",
    "for e in range(num_epoches):\n",
    "\n",
    "    test_results = transforms.functional.to_pil_image(\n",
    "        torch.clamp(model(test_image_noised.unsqueeze(0)).squeeze(0).cpu(), min=0., max=1.)\n",
    "        )\n",
    "    test_results.save(f'./CONTENT/{e}.png')\n",
    "\n",
    "    losses = []\n",
    "    start_time = time.time()\n",
    "    for i, data_batch in enumerate(training_loader):\n",
    "        data = data_batch.cuda()\n",
    "        noised_data = add_noise(data, 0.1)\n",
    "        denoised = model(noised_data)\n",
    "        loss = loss_func(denoised, data)\n",
    "\n",
    "        optimizer.zero_grad()\n",
    "        loss.backward()\n",
    "        optimizer.step()\n",
    "        losses.append(loss.cpu().item())\n",
    "    end_time = time.time()\n",
    "    print(f'{e + 1} epoch. Training Avg Loss {sum(losses) / len(training_loader):.4f}, time {end_time - start_time:.2f} s')\n",
    "    torch.save(model.state_dict(), os.path.join('./SAVE_MODEL', 'epoch_{}.pth'.format(e)))"
   ]
  },
  {
   "cell_type": "markdown",
   "metadata": {},
   "source": [
    "# tensor -> PIL image\n",
    "`from torchvision.transforms.functional import to_pil_image, to_tensor`\n",
    "\n"
   ]
  },
  {
   "cell_type": "code",
   "execution_count": 44,
   "metadata": {},
   "outputs": [
    {
     "data": {
      "text/plain": [
       "100"
      ]
     },
     "execution_count": 44,
     "metadata": {},
     "output_type": "execute_result"
    }
   ],
   "source": [
    "len(dataset)\n"
   ]
  },
  {
   "cell_type": "code",
   "execution_count": 69,
   "metadata": {},
   "outputs": [
    {
     "data": {
      "image/png": "[encoded data removed]",
      "text/plain": [
       "<PIL.Image.Image image mode=RGB size=64x64 at 0x29F0ABDFD60>"
      ]
     },
     "execution_count": 69,
     "metadata": {},
     "output_type": "execute_result"
    }
   ],
   "source": [
    "to_pil_image(dataset[21])\n"
   ]
  },
  {
   "cell_type": "code",
   "execution_count": 72,
   "metadata": {},
   "outputs": [
    {
     "name": "stdout",
     "output_type": "stream",
     "text": [
      "torch.Size([3, 64, 64])\n"
     ]
    }
   ],
   "source": [
    "print(dataset[21].shape)"
   ]
  },
  {
   "cell_type": "code",
   "execution_count": 73,
   "metadata": {},
   "outputs": [
    {
     "data": {
      "text/plain": [
       "tensor([[[0.7922, 0.7922, 0.8275,  ..., 0.8157, 0.8157, 0.7922],\n",
       "         [0.8000, 0.7843, 0.7961,  ..., 0.6510, 0.6392, 0.6196],\n",
       "         [0.6667, 0.6667, 0.6431,  ..., 0.4863, 0.4941, 0.5137],\n",
       "         ...,\n",
       "         [0.6471, 0.6235, 0.6235,  ..., 0.7451, 0.7490, 0.7412],\n",
       "         [0.6353, 0.6235, 0.6353,  ..., 0.7451, 0.7412, 0.7137],\n",
       "         [0.6314, 0.6431, 0.6431,  ..., 0.7137, 0.7451, 0.7412]],\n",
       "\n",
       "        [[0.6353, 0.6353, 0.6902,  ..., 0.6706, 0.6510, 0.6431],\n",
       "         [0.6353, 0.6196, 0.6392,  ..., 0.4667, 0.4549, 0.4353],\n",
       "         [0.4627, 0.4902, 0.4510,  ..., 0.2549, 0.2941, 0.2941],\n",
       "         ...,\n",
       "         [0.4745, 0.4314, 0.4627,  ..., 0.5922, 0.6078, 0.6078],\n",
       "         [0.4627, 0.4392, 0.4706,  ..., 0.6000, 0.6039, 0.5843],\n",
       "         [0.4706, 0.4706, 0.4706,  ..., 0.5647, 0.5922, 0.5843]],\n",
       "\n",
       "        [[0.3451, 0.3451, 0.3647,  ..., 0.3804, 0.3804, 0.3804],\n",
       "         [0.3137, 0.3098, 0.3137,  ..., 0.2471, 0.2392, 0.2392],\n",
       "         [0.2314, 0.2353, 0.2314,  ..., 0.0392, 0.0824, 0.0824],\n",
       "         ...,\n",
       "         [0.2392, 0.2510, 0.2471,  ..., 0.3529, 0.3216, 0.3373],\n",
       "         [0.2235, 0.2235, 0.2235,  ..., 0.3294, 0.3294, 0.3216],\n",
       "         [0.2314, 0.2314, 0.2314,  ..., 0.3255, 0.3294, 0.3216]]])"
      ]
     },
     "execution_count": 73,
     "metadata": {},
     "output_type": "execute_result"
    }
   ],
   "source": [
    "dataset[21]\n"
   ]
  },
  {
   "cell_type": "code",
   "execution_count": 76,
   "metadata": {},
   "outputs": [],
   "source": [
    "img_tp=dataset[1]\n"
   ]
  },
  {
   "cell_type": "code",
   "execution_count": 77,
   "metadata": {},
   "outputs": [
    {
     "data": {
      "image/png": "[encoded data removed]",
      "text/plain": [
       "<PIL.Image.Image image mode=RGB size=64x64 at 0x29F0AC00760>"
      ]
     },
     "execution_count": 77,
     "metadata": {},
     "output_type": "execute_result"
    }
   ],
   "source": [
    " to_pil_image(img_tp)"
   ]
  },
  {
   "cell_type": "code",
   "execution_count": 81,
   "metadata": {},
   "outputs": [
    {
     "data": {
      "image/png": "[encoded data removed]",
      "text/plain": [
       "<PIL.Image.Image image mode=RGB size=64x64 at 0x29F0ABDF370>"
      ]
     },
     "execution_count": 81,
     "metadata": {},
     "output_type": "execute_result"
    }
   ],
   "source": [
    "to_pil_image(add_noise(img_tp,0.1))  #添加噪声\n"
   ]
  },
  {
   "cell_type": "code",
   "execution_count": null,
   "metadata": {},
   "outputs": [],
   "source": []
  }
 ],
 "metadata": {
  "interpreter": {
   "hash": "357041eb9953de0d55577b9d4abe87be7af75b5be16b7bd5b3b1f835a2619d3a"
  },
  "kernelspec": {
   "display_name": "Python 3.8.12 ('mypytorch')",
   "language": "python",
   "name": "python3"
  },
  "language_info": {
   "codemirror_mode": {
    "name": "ipython",
    "version": 3
   },
   "file_extension": ".py",
   "mimetype": "text/x-python",
   "name": "python",
   "nbconvert_exporter": "python",
   "pygments_lexer": "ipython3",
   "version": "3.8.12"
  },
  "orig_nbformat": 4
 },
 "nbformat": 4,
 "nbformat_minor": 2
}
